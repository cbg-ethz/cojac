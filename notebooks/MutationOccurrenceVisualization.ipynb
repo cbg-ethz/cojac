{
 "cells": [
  {
   "cell_type": "code",
   "execution_count": null,
   "metadata": {},
   "outputs": [],
   "source": [
    "import json\n",
    "\n",
    "import numpy as np\n",
    "import pandas as pd\n",
    "\n",
    "import seaborn as sns\n",
    "import matplotlib as mpl\n",
    "import matplotlib.pyplot as plt\n",
    "import matplotlib.transforms as transforms\n",
    "from matplotlib.patches import Rectangle"
   ]
  },
  {
   "cell_type": "markdown",
   "metadata": {},
   "source": [
    "# Load configuration"
   ]
  },
  {
   "cell_type": "code",
   "execution_count": null,
   "metadata": {},
   "outputs": [],
   "source": [
    "# TODO: retrieve these bits of information dynamically\n",
    "amplicon_mutations = {\n",
    "    '72_UK': '21765-21770Δ,21991-21993Δ'.split(','),\n",
    "    '78_UK': '23604A,23709T'.split(','),\n",
    "    '92_UK': '27972T,28048T,28111G'.split(','),\n",
    "    '93_UK': '28111G,28280-28280->CTA'.split(','),\n",
    "    '76_SA': '23012A,23063T'.split(','),\n",
    "    '77_EU': '23403G'.split(','),\n",
    "}\n",
    "\n",
    "amplicon_mutation_positions = {\n",
    "    '72_UK': [21765, 21991],\n",
    "    '78_UK': [23604, 23709],\n",
    "    '92_UK': [27972, 28048, 28111],\n",
    "    '93_UK': [28111, 28280],\n",
    "    '76_SA': [23012, 23063],\n",
    "    '77_EU': [23403],\n",
    "}\n",
    "\n",
    "amplicon_ranges = {\n",
    "    '72_UK': (21760, 22000),\n",
    "    '78_UK': (23600, 23720),\n",
    "    '92_UK': (27970, 28120),\n",
    "    '93_UK': (28110, 28290),\n",
    "    '76_SA': (23010, 23070),\n",
    "    '77_EU': (23400, 23410),\n",
    "}"
   ]
  },
  {
   "cell_type": "markdown",
   "metadata": {},
   "source": [
    "# Load data"
   ]
  },
  {
   "cell_type": "code",
   "execution_count": null,
   "metadata": {},
   "outputs": [],
   "source": [
    "# adapt 'data.json' to your needs\n",
    "with open('data.json') as fd:\n",
    "    data = json.load(fd)"
   ]
  },
  {
   "cell_type": "code",
   "execution_count": null,
   "metadata": {},
   "outputs": [],
   "source": [
    "# convert mutations in json format to dataframes\n",
    "tmp_mutations = []\n",
    "for sample, sample_data in data.items():\n",
    "    for amplicon, amplicon_data in sample_data.items():\n",
    "        print(sample, amplicon, amplicon_data)\n",
    "\n",
    "        max_entry = max(amplicon_data['sites'])  # corresponds to all mutations\n",
    "\n",
    "        if max_entry not in amplicon_data['muts']:\n",
    "            print('Skipping incomplete field')\n",
    "            continue\n",
    "\n",
    "        tmp_mutations.append(\n",
    "            {\n",
    "                'sample': sample,\n",
    "                'mutation': ','.join(amplicon_mutations[amplicon]),\n",
    "                'position': ','.join(\n",
    "                    str(e) for e in amplicon_mutation_positions[amplicon]\n",
    "                )\n",
    "                if len(amplicon_mutation_positions[amplicon]) > 1\n",
    "                else amplicon_mutation_positions[amplicon][0],\n",
    "                'frequency': amplicon_data['muts'][max_entry]\n",
    "                / amplicon_data['sites'][max_entry],\n",
    "                'coverage': amplicon_data['sites'][max_entry],\n",
    "            }\n",
    "        )\n",
    "\n",
    "for amplicon in amplicon_ranges.keys():\n",
    "    mutation_list = amplicon_mutations[amplicon]\n",
    "    position_list = amplicon_mutation_positions[amplicon]\n",
    "    assert len(mutation_list) == len(position_list)\n",
    "\n",
    "    for mut, pos in zip(mutation_list, position_list):\n",
    "        for sample in data.keys():\n",
    "            tmp_mutations.append(\n",
    "                {\n",
    "                    'sample': sample,\n",
    "                    'mutation': mut,\n",
    "                    'position': pos,\n",
    "                    'frequency': 0,\n",
    "                    'coverage': 0,\n",
    "                }\n",
    "            )\n",
    "\n",
    "df_mutations = pd.DataFrame(tmp_mutations)\n",
    "df_mutations.head()"
   ]
  },
  {
   "cell_type": "code",
   "execution_count": null,
   "metadata": {},
   "outputs": [],
   "source": [
    "# load amplicon information\n",
    "tmp_amplicons = []\n",
    "for amplicon, (start, end) in amplicon_ranges.items():\n",
    "    tmp_amplicons.append({'name': amplicon, 'start': start, 'end': end})\n",
    "\n",
    "df_amplicons = pd.DataFrame(tmp_amplicons)\n",
    "df_amplicons.head()"
   ]
  },
  {
   "cell_type": "code",
   "execution_count": null,
   "metadata": {},
   "outputs": [],
   "source": [
    "# dummy mutation data\n",
    "# df_mutations = pd.DataFrame({\n",
    "#     'sample': ['sample_A', 'sample_A', 'sample_A', 'sample_B'],\n",
    "#     'mutation': ['T12G,C16A', 'T12G', 'C16A', 'T61G'],\n",
    "#     'position': ['12,16', 12, 16, 61],\n",
    "#     'frequency': [.1, .7, .25, .9],\n",
    "#     'coverage': [200, 234, 250, 30]\n",
    "# })\n",
    "# df_mutations.head()"
   ]
  },
  {
   "cell_type": "code",
   "execution_count": null,
   "metadata": {},
   "outputs": [],
   "source": [
    "# dummy amplicon data\n",
    "# df_amplicons = pd.DataFrame({\n",
    "#     'name': ['first_amp', 'second_amp'],\n",
    "#     'start': [10, 50],\n",
    "#     'end': [20, 80]\n",
    "# })\n",
    "# df_amplicons.head()"
   ]
  },
  {
   "cell_type": "markdown",
   "metadata": {},
   "source": [
    "# Visualization"
   ]
  },
  {
   "cell_type": "markdown",
   "metadata": {},
   "source": [
    "## Helper functions"
   ]
  },
  {
   "cell_type": "code",
   "execution_count": null,
   "metadata": {},
   "outputs": [],
   "source": [
    "def plot_filled_rectangle(xy, width, height, color, fill_fraction, ax):\n",
    "    p = Rectangle(\n",
    "        xy, width, height, edgecolor=color, linewidth=3, fill=False, zorder=100\n",
    "    )\n",
    "    ax.add_patch(p)\n",
    "\n",
    "    assert 0 <= fill_fraction <= 1\n",
    "    p = Rectangle(\n",
    "        xy, width * fill_fraction, height, facecolor=color, edgecolor='none', zorder=10\n",
    "    )\n",
    "    ax.add_patch(p)"
   ]
  },
  {
   "cell_type": "code",
   "execution_count": null,
   "metadata": {},
   "outputs": [],
   "source": [
    "def plot_mutation(mutation, position, frequency, coverage, cov_map, ax):\n",
    "    ax.axvline(position, 0, 0.5, color='black')\n",
    "\n",
    "    trans = (\n",
    "        transforms.blended_transform_factory(ax.transData, ax.transAxes)\n",
    "        + ax.transData.inverted()\n",
    "    )\n",
    "\n",
    "    width, height = trans.transform((2, 0.2))\n",
    "    xy = trans.transform((position - width / 2, 0.5))\n",
    "    plot_filled_rectangle(\n",
    "        xy, width, height, color=cov_map(coverage), fill_fraction=frequency, ax=ax\n",
    "    )"
   ]
  },
  {
   "cell_type": "code",
   "execution_count": null,
   "metadata": {},
   "outputs": [],
   "source": [
    "def plot_mutation_list(mutation, position, frequency, coverage, cov_map, ax):\n",
    "    pos_list = [int(s) for s in position.split(',')]\n",
    "    start, end = min(pos_list), max(pos_list)\n",
    "\n",
    "    trans = (\n",
    "        transforms.blended_transform_factory(ax.transData, ax.transAxes)\n",
    "        + ax.transData.inverted()\n",
    "    )\n",
    "\n",
    "    width, height = trans.transform((end - start, 0.2))\n",
    "    xy = trans.transform((start - 1, 0.8))\n",
    "    plot_filled_rectangle(\n",
    "        xy, width + 2, height, color=cov_map(coverage), fill_fraction=frequency, ax=ax\n",
    "    )"
   ]
  },
  {
   "cell_type": "markdown",
   "metadata": {},
   "source": [
    "## Main plot"
   ]
  },
  {
   "cell_type": "code",
   "execution_count": null,
   "metadata": {},
   "outputs": [],
   "source": [
    "sample_num = df_mutations['sample'].nunique()\n",
    "amplicon_num = df_amplicons.shape[0]\n",
    "\n",
    "fig, ax_grid = plt.subplots(\n",
    "    nrows=sample_num, ncols=amplicon_num, figsize=(4 * amplicon_num, 3 * sample_num)\n",
    ")\n",
    "\n",
    "if len(ax_grid.shape) == 1:\n",
    "    # only one sample given\n",
    "    # TODO: handle only single amplicon\n",
    "    ax_grid = np.array([ax_grid])\n",
    "\n",
    "cmap = mpl.cm.viridis\n",
    "norm = mpl.colors.Normalize(vmin=0, vmax=df_mutations['coverage'].max())\n",
    "cov_map = lambda x: cmap(norm(x))\n",
    "\n",
    "for i, ((sample, sample_group), ax_list) in enumerate(\n",
    "    zip(df_mutations.groupby('sample'), ax_grid)\n",
    "):\n",
    "    for j, (amplicon, ax) in enumerate(zip(df_amplicons.itertuples(), ax_list)):\n",
    "        for row in sample_group.itertuples():\n",
    "            if isinstance(row.position, int):\n",
    "                plot_mutation(\n",
    "                    row.mutation, row.position, row.frequency, row.coverage, cov_map, ax\n",
    "                )\n",
    "            else:\n",
    "                min_ = min([int(e) for e in row.position.split(',')])\n",
    "                max_ = max([int(e) for e in row.position.split(',')])\n",
    "                if min_ < amplicon.start or max_ > amplicon.end:\n",
    "                    # mutations are not completely contained in current amplicon, skipping\n",
    "                    continue\n",
    "\n",
    "                plot_mutation_list(\n",
    "                    row.mutation, row.position, row.frequency, row.coverage, cov_map, ax\n",
    "                )\n",
    "\n",
    "        ax.set_xlim(amplicon.start, amplicon.end)\n",
    "\n",
    "        ax.tick_params(axis='y', which='both', left=False, labelleft=False)\n",
    "        sns.despine(ax=ax, top=True, right=True, left=True, bottom=False)\n",
    "\n",
    "        if i == 0:\n",
    "            # in first amplicon\n",
    "            ax.set_title(amplicon.name)\n",
    "        elif i == df_mutations['sample'].nunique() - 1:\n",
    "            ax.set_xlabel('bp')\n",
    "        if j == 0:\n",
    "            # in first sample\n",
    "            ax.set_ylabel(sample)\n",
    "\n",
    "\n",
    "ax_cb = fig.add_axes([1, 0.4, 0.03, 0.2])\n",
    "cb = mpl.colorbar.ColorbarBase(ax_cb, cmap=cmap, norm=norm)\n",
    "cb.set_label('Coverage')\n",
    "\n",
    "fig.savefig('visualization.pdf')"
   ]
  }
 ],
 "metadata": {
  "kernelspec": {
   "display_name": "Python 3",
   "language": "python",
   "name": "python3"
  },
  "language_info": {
   "codemirror_mode": {
    "name": "ipython",
    "version": 3
   },
   "file_extension": ".py",
   "mimetype": "text/x-python",
   "name": "python",
   "nbconvert_exporter": "python",
   "pygments_lexer": "ipython3",
   "version": "3.9.0"
  }
 },
 "nbformat": 4,
 "nbformat_minor": 4
}

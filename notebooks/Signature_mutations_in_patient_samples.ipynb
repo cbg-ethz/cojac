{
 "cells": [
  {
   "cell_type": "markdown",
   "metadata": {},
   "source": [
    "# Signature mutations in patient samples\n",
    "\n",
    "Notebook to assess the prevalence of signature mutation defining the lineage B.1.1.7, P.1 and 501.V2 in all non-B.1.1.7, non-P.1 and non-501.V2 consensus sequences from GISAID obtained from clinical samples collected in Switzerland before December 24. "
   ]
  },
  {
   "cell_type": "code",
   "execution_count": null,
   "metadata": {},
   "outputs": [],
   "source": [
    "import pandas as pd\n",
    "import yaml"
   ]
  },
  {
   "cell_type": "markdown",
   "metadata": {},
   "source": [
    "## Input yaml-file of variant"
   ]
  },
  {
   "cell_type": "code",
   "execution_count": null,
   "metadata": {},
   "outputs": [],
   "source": [
    "yaml_file = open(\"../voc/br_mutations.yaml\")\n",
    "parsed_yaml_file = yaml.load(yaml_file, Loader=yaml.FullLoader)"
   ]
  },
  {
   "cell_type": "code",
   "execution_count": null,
   "metadata": {},
   "outputs": [],
   "source": [
    "dict_mut = parsed_yaml_file.get(\"mut\")\n",
    "if parsed_yaml_file.get(\"extra\") != None:\n",
    "    temp = parsed_yaml_file.get(\"extra\")\n",
    "    dict_mut.update(temp)\n",
    "if parsed_yaml_file.get(\"subset\") != None:\n",
    "    temp = parsed_yaml_file.get(\"subset\")\n",
    "    dict_mut.update(temp)\n",
    "if parsed_yaml_file.get(\"shared\") != None:\n",
    "    temp = parsed_yaml_file.get(\"shared\")\n",
    "    dict_mut.update(temp)"
   ]
  },
  {
   "cell_type": "markdown",
   "metadata": {},
   "source": [
    "### Collect Swiss patient samples from sars_cov_2-ETHZ-database "
   ]
  },
  {
   "cell_type": "code",
   "execution_count": null,
   "metadata": {},
   "outputs": [],
   "source": [
    "import psycopg2\n",
    "\n",
    "db_host = \"id-hdb-psgr-cp61.ethz.ch\"\n",
    "db_name = \"sars_cov_2\"\n",
    "db_user = input(\"Enter username for database\" + db_name + \":\\n\")\n",
    "db_password = input(\"Enter password for user \" + db_user + \":\\n\")\n",
    "# Connect to database\n",
    "db_connection = (\n",
    "    \"dbname='\"\n",
    "    + db_name\n",
    "    + \"' user='\"\n",
    "    + db_user\n",
    "    + \"' host='\"\n",
    "    + db_host\n",
    "    + \"' password='\"\n",
    "    + db_password\n",
    "    + \"'\"\n",
    ")\n",
    "try:\n",
    "    conn = psycopg2.connect(db_connection)\n",
    "except Exception as e:\n",
    "    raise Exception(\"I am unable to connect to the database.\", e)\n",
    "cursor = conn.cursor()\n",
    "cursor.execute(\n",
    "    \"select gs.strain, gs.date, gs.date_str, gs.division, gs.pangolin_lineage, gs.originating_lab, gs.submitting_lab, gs.date_submitted, gs.aligned_seq from gisaid_sequence gs where gs.country ='Switzerland'\"\n",
    ")\n",
    "data = cursor.fetchall()\n",
    "cursor.close()\n",
    "\n",
    "conn.close()"
   ]
  },
  {
   "cell_type": "markdown",
   "metadata": {},
   "source": [
    "### Summarize data in dataframe df"
   ]
  },
  {
   "cell_type": "code",
   "execution_count": null,
   "metadata": {},
   "outputs": [],
   "source": [
    "df = pd.DataFrame(\n",
    "    data,\n",
    "    columns=(\n",
    "        \"strain\",\n",
    "        \"date\",\n",
    "        \"date_str\",\n",
    "        \"division\",\n",
    "        \"pangolin_lineage\",\n",
    "        \"originating_lab\",\n",
    "        \"submitting_lab\",\n",
    "        \"date_submitted\",\n",
    "        \"aligned_seq\",\n",
    "    ),\n",
    ")"
   ]
  },
  {
   "cell_type": "markdown",
   "metadata": {},
   "source": [
    "### Exclude sequences that are already identified as UK- or SA-variant from the analysis"
   ]
  },
  {
   "cell_type": "code",
   "execution_count": null,
   "metadata": {},
   "outputs": [],
   "source": [
    "df = df[df[\"pangolin_lineage\"] != \"B.1.1.7\"]  # UK variants\n",
    "df = df[df[\"pangolin_lineage\"] != \"501.V2\"]  # SA variants\n",
    "df = df[df[\"pangolin_lineage\"] != \"P.1\"]  # BR variants"
   ]
  },
  {
   "cell_type": "markdown",
   "metadata": {},
   "source": [
    "### Analysis is only performed with sequences with sample date before before 24 Dec 2020"
   ]
  },
  {
   "cell_type": "code",
   "execution_count": null,
   "metadata": {},
   "outputs": [],
   "source": [
    "df[\"date_datetime\"] = pd.to_datetime(df[\"date\"])\n",
    "df = df[df[\"date_datetime\"] <= \"2020-12-24\"]"
   ]
  },
  {
   "cell_type": "markdown",
   "metadata": {},
   "source": [
    "### Number of samples analysed "
   ]
  },
  {
   "cell_type": "code",
   "execution_count": null,
   "metadata": {},
   "outputs": [],
   "source": [
    "df.shape[0]"
   ]
  },
  {
   "cell_type": "markdown",
   "metadata": {},
   "source": [
    "### Prevalence of the signature mutations of the XX lineage summarized in df_counts"
   ]
  },
  {
   "cell_type": "code",
   "execution_count": null,
   "metadata": {},
   "outputs": [],
   "source": [
    "def parse2colname(mut_pos, mut):\n",
    "    x = mut.split(\">\")\n",
    "    if (len(x) == 1) and (x[0][0] == \"-\"):\n",
    "        return \"del_\" + str(mut_pos)\n",
    "    elif (len(x) == 1) and (x[0][0] == \"+\"):\n",
    "        return \"insertion\"\n",
    "    else:\n",
    "        return x[0] + str(mut_pos) + x[1]"
   ]
  },
  {
   "cell_type": "code",
   "execution_count": null,
   "metadata": {},
   "outputs": [],
   "source": [
    "def count_mutations(sequence):\n",
    "    \"\"\"\n",
    "    sequence: sequence as string\n",
    "    return:   dict with counts of the signature mutations of the XX lineage\n",
    "              and list of co-occurring mutations.\n",
    "    TODO: case for insertions\n",
    "    \"\"\"\n",
    "    dict_counts = {}\n",
    "\n",
    "    for mut_pos in dict_mut:\n",
    "        key_name = parse2colname(mut_pos, dict_mut[mut_pos])\n",
    "\n",
    "        # mut_pos counts from one, we need position with start zero\n",
    "        zero_pos = mut_pos - 1\n",
    "\n",
    "        # deletion\n",
    "        if dict_mut[mut_pos].startswith(\"-\"):\n",
    "            del_len = len(dict_mut[mut_pos])\n",
    "            if sequence[zero_pos : zero_pos + del_len] == dict_mut[mut_pos]:\n",
    "                dict_counts.update({key_name: 1})\n",
    "            else:\n",
    "                dict_counts.update({key_name: 0})\n",
    "        elif dict_mut[mut_pos].startswith(\"+\"):\n",
    "            # TODO : count insertions\n",
    "            dict_counts.update({key_name: 0})\n",
    "        else:\n",
    "            var = dict_mut[mut_pos].split(\">\")[1]\n",
    "            set_var = {var, var.lower()}\n",
    "            if sequence[zero_pos : zero_pos + len(var)] in set_var:\n",
    "                dict_counts.update({key_name: 1})\n",
    "            else:\n",
    "                dict_counts.update({key_name: 0})\n",
    "\n",
    "    # sum of mutations found in current consensus sequence\n",
    "    sum_mut = 0\n",
    "    co_occ_list = []\n",
    "    for key in dict_counts:\n",
    "        sum_mut += dict_counts[key]\n",
    "        if dict_counts[key] == 1:\n",
    "            co_occ_list.append(key)\n",
    "\n",
    "    dict_counts.update({\"sum\": sum_mut})\n",
    "\n",
    "    if (sum_mut > 1) and (len(co_occ_list) > 1):\n",
    "        co_occ = str(co_occ_list)\n",
    "    else:\n",
    "        co_occ = str([])\n",
    "\n",
    "    dict_counts.update({\"co_occ\": str(co_occ)})\n",
    "\n",
    "    return dict_counts"
   ]
  },
  {
   "cell_type": "code",
   "execution_count": null,
   "metadata": {},
   "outputs": [],
   "source": [
    "# define the dataframe where we count the observed mutations\n",
    "columns_df_counts = [\"id\", \"division\", \"date\", \"sum\", \"co_occ\", \"n_sample\"]\n",
    "\n",
    "for mut_pos in dict_mut:\n",
    "    columns_df_counts.append(parse2colname(mut_pos, dict_mut[mut_pos]))\n",
    "\n",
    "df_counts = pd.DataFrame(columns=columns_df_counts)\n",
    "\n",
    "# go through each consensus sequence of the clinical samples and check if the mutations are found\n",
    "for index, row in df.iterrows():\n",
    "    info_dict = {\n",
    "        \"id\": row[\"strain\"],\n",
    "        \"division\": row[\"division\"],\n",
    "        \"date\": row[\"date\"],\n",
    "        \"n_sample\": 1,\n",
    "    }\n",
    "    counts_dict = count_mutations(row[\"aligned_seq\"])\n",
    "    info_dict.update(counts_dict)\n",
    "    df_counts = df_counts.append(info_dict, ignore_index=True)"
   ]
  },
  {
   "cell_type": "code",
   "execution_count": null,
   "metadata": {},
   "outputs": [],
   "source": [
    "df_counts[df_counts[\"sum\"] > 0]"
   ]
  },
  {
   "cell_type": "markdown",
   "metadata": {},
   "source": [
    "### Prevalence of the XX signature mutations before and after 2020-10-23"
   ]
  },
  {
   "cell_type": "code",
   "execution_count": null,
   "metadata": {},
   "outputs": [],
   "source": [
    "df_counts_freq = pd.DataFrame(\n",
    "    columns=(\n",
    "        \"mutation\",\n",
    "        \"abs_freq\",\n",
    "        \"relativ_freq\",\n",
    "        \"abs_freq_early\",\n",
    "        \"abs_freq_late\",\n",
    "        \"relativ_freq_early\",\n",
    "        \"relativ_freq_late\",\n",
    "    )\n",
    ")\n",
    "\n",
    "cut_off_date = \"2020-10-23\"\n",
    "\n",
    "df_counts[\"date_datetime\"] = pd.to_datetime(df_counts[\"date\"])\n",
    "df_counts_before_oct = df_counts[df_counts[\"date_datetime\"] < cut_off_date]\n",
    "df_counts_after_oct = df_counts[df_counts[\"date_datetime\"] >= cut_off_date]\n",
    "\n",
    "print(\"# early seq \", df_counts_before_oct.shape[0])\n",
    "print(\"# late seq \", df_counts_after_oct.shape[0])\n",
    "\n",
    "\n",
    "list_mutations = []\n",
    "for mut_pos in dict_mut:\n",
    "    list_mutations.append(parse2colname(mut_pos, dict_mut[mut_pos]))\n",
    "\n",
    "for mut in list_mutations:\n",
    "    temp_dict = {\n",
    "        \"mutation\": mut,\n",
    "        \"abs_freq\": df_counts[mut].sum(),\n",
    "        \"relativ_freq\": df_counts[mut].sum() / df_counts.shape[0] * 100,\n",
    "        \"abs_freq_early\": df_counts_before_oct[mut].sum(),\n",
    "        \"relativ_freq_early\": float(\n",
    "            df_counts_before_oct[mut].sum() / df_counts_before_oct.shape[0] * 100\n",
    "        ),\n",
    "        \"abs_freq_late\": df_counts_after_oct[mut].sum(),\n",
    "        \"relativ_freq_late\": float(\n",
    "            df_counts_after_oct[mut].sum() / df_counts_after_oct.shape[0] * 100\n",
    "        ),\n",
    "    }\n",
    "    df_counts_freq = df_counts_freq.append(temp_dict, ignore_index=True)\n",
    "\n",
    "df_counts_freq"
   ]
  },
  {
   "cell_type": "code",
   "execution_count": null,
   "metadata": {},
   "outputs": [],
   "source": [
    "# save dataframe\n",
    "# df_counts_freq.to_csv('df_counts_freq.csv')"
   ]
  },
  {
   "cell_type": "markdown",
   "metadata": {},
   "source": [
    "### Grouping the co-occuring mutations together"
   ]
  },
  {
   "cell_type": "code",
   "execution_count": null,
   "metadata": {},
   "outputs": [],
   "source": [
    "list_mutations.append(\"id\")\n",
    "list_mutations.append(\"sum\")\n",
    "list_mutations.append(\"date_datetime\")\n",
    "\n",
    "df_co_occ = df_counts[df_counts[\"sum\"] > 1].drop(list_mutations, axis=1)"
   ]
  },
  {
   "cell_type": "code",
   "execution_count": null,
   "metadata": {},
   "outputs": [],
   "source": [
    "df_co_occ[\"co_occ\"] = df_co_occ[\"co_occ\"].astype(str)"
   ]
  },
  {
   "cell_type": "code",
   "execution_count": null,
   "metadata": {},
   "outputs": [],
   "source": [
    "df_co_occ1 = df_co_occ.groupby([\"co_occ\", \"division\", \"date\"]).sum()\n",
    "df_co_occ1"
   ]
  },
  {
   "cell_type": "code",
   "execution_count": null,
   "metadata": {},
   "outputs": [],
   "source": [
    "# save dataframe\n",
    "# df_co_occ1.to_csv('df_co_occ.csv')"
   ]
  },
  {
   "cell_type": "code",
   "execution_count": null,
   "metadata": {},
   "outputs": [],
   "source": []
  }
 ],
 "metadata": {
  "kernelspec": {
   "display_name": "bio1",
   "language": "python",
   "name": "bio1"
  },
  "language_info": {
   "codemirror_mode": {
    "name": "ipython",
    "version": 3
   },
   "file_extension": ".py",
   "mimetype": "text/x-python",
   "name": "python",
   "nbconvert_exporter": "python",
   "pygments_lexer": "ipython3",
   "version": "3.9.5"
  }
 },
 "nbformat": 4,
 "nbformat_minor": 4
}

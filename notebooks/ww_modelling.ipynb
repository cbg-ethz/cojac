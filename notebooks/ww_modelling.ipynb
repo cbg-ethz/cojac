{
 "cells": [
  {
   "cell_type": "code",
   "execution_count": null,
   "metadata": {},
   "outputs": [],
   "source": [
    "import numpy as np\n",
    "import pandas as pd\n",
    "import scipy as sp\n",
    "\n",
    "import seaborn as sns\n",
    "import matplotlib.pyplot as plt\n",
    "\n",
    "from natsort import natsort_keygen\n",
    "\n",
    "import statsmodels.api as sm\n",
    "import scipy as sp\n",
    "\n",
    "import rpy2.rinterface\n",
    "import os\n",
    "\n",
    "from statsmodels.stats.proportion import proportion_confint\n",
    "\n",
    "# Need to specify your R lib here\n",
    "os.environ[\"R_HOME\"] = \"/Users/Gneiss/opt/miniconda3/envs/numpyro1/lib/R\""
   ]
  },
  {
   "cell_type": "code",
   "execution_count": null,
   "metadata": {},
   "outputs": [],
   "source": [
    "%load_ext rpy2.ipython"
   ]
  },
  {
   "cell_type": "markdown",
   "metadata": {},
   "source": [
    "# Load WWTP data"
   ]
  },
  {
   "cell_type": "code",
   "execution_count": null,
   "metadata": {},
   "outputs": [],
   "source": [
    "df = pd.read_csv(\"Data/tallymut_line_snv2.tsv\", sep=\"\\t\", parse_dates=[\"date\"])\n",
    "\n",
    "df[\"mutation\"] = df[\"pos\"].astype(str) + df[\"base\"]\n",
    "\n",
    "df_wide = (\n",
    "    df[\n",
    "        (~df[\"plantname\"].isna())\n",
    "        & (df[\"date\"] >= \"2020-12-08\")\n",
    "        & (df[\"base\"] != \"-\")\n",
    "        & (df[\"UK\"] == \"mut\")\n",
    "    ]\n",
    "    .pivot(index=[\"plantname\", \"date\", \"batch\"], columns=[\"mutation\"], values=\"frac\")\n",
    "    .sort_index(axis=1, key=natsort_keygen())\n",
    ")\n",
    "\n",
    "df_wide_cov = (\n",
    "    df[\n",
    "        (~df[\"plantname\"].isna())\n",
    "        & (df[\"date\"] >= \"2020-12-08\")\n",
    "        & (df[\"base\"] != \"-\")\n",
    "        & (df[\"UK\"] == \"mut\")\n",
    "    ]\n",
    "    .pivot(index=[\"plantname\", \"date\", \"batch\"], columns=[\"mutation\"], values=\"cov\")\n",
    "    .sort_index(axis=1, key=natsort_keygen())\n",
    ")\n",
    "\n",
    "df_wide_counts = (\n",
    "    df[\n",
    "        (~df[\"plantname\"].isna())\n",
    "        & (df[\"date\"] >= \"2020-12-08\")\n",
    "        & (df[\"base\"] != \"-\")\n",
    "        & (df[\"UK\"] == \"mut\")\n",
    "    ]\n",
    "    .pivot(index=[\"plantname\", \"date\", \"batch\"], columns=[\"mutation\"], values=\"var\")\n",
    "    .sort_index(axis=1, key=natsort_keygen())\n",
    ")"
   ]
  },
  {
   "cell_type": "markdown",
   "metadata": {},
   "source": [
    "## Make counts wide df"
   ]
  },
  {
   "cell_type": "code",
   "execution_count": null,
   "metadata": {},
   "outputs": [],
   "source": [
    "ZHdf_cov = (\n",
    "    df_wide_cov.loc[\"Zürich (ZH)\"].dropna(axis=1, how=\"all\").T\n",
    ")  # .loc[28111:28111]\n",
    "ZHdf_cov = ZHdf_cov.T.groupby(\"date\").agg(\"mean\").asfreq(\"D\").T\n",
    "\n",
    "ZHdf_counts = (\n",
    "    df_wide_counts.loc[\"Zürich (ZH)\"].dropna(axis=1, how=\"all\").T\n",
    ")  # .loc[28111:28111]\n",
    "ZHdf_counts = ZHdf_counts.T.groupby(\"date\").agg(\"mean\").asfreq(\"D\").T\n",
    "\n",
    "VDdf_cov = (\n",
    "    df_wide_cov.loc[\"Lausanne (VD)\"].dropna(axis=1, how=\"all\").T\n",
    ")  # .loc[28111:28111]\n",
    "VDdf_cov = VDdf_cov.T.groupby(\"date\").agg(\"mean\").asfreq(\"D\").T\n",
    "\n",
    "VDdf_counts = (\n",
    "    df_wide_counts.loc[\"Lausanne (VD)\"].dropna(axis=1, how=\"all\").T\n",
    ")  # .loc[28111:28111]\n",
    "VDdf_counts = VDdf_counts.T.groupby(\"date\").agg(\"mean\").asfreq(\"D\").T"
   ]
  },
  {
   "cell_type": "markdown",
   "metadata": {},
   "source": [
    "## Load cantonal viollier data and aggregate by week"
   ]
  },
  {
   "cell_type": "code",
   "execution_count": null,
   "metadata": {},
   "outputs": [],
   "source": [
    "viollier2 = pd.read_csv(\"Data/data_per_day_and_canton2.csv\")\n",
    "viollier2[\"date\"] = pd.DatetimeIndex(viollier2[\"date\"])\n",
    "viollier2[\"week\"] = viollier2.date.dt.strftime(\"%W\")\n",
    "viollier2[\"year\"] = viollier2.date.dt.strftime(\"%Y\")\n",
    "viollier2[\"date_week\"] = pd.to_datetime(\n",
    "    viollier2[\"year\"].astype(str), format=\"%Y\"\n",
    ") + pd.to_timedelta(\n",
    "    ((viollier2[\"week\"].astype(\"int\") - 1).mul(7) + 3 - 7).astype(str) + \" days\"\n",
    ")\n",
    "\n",
    "viollier2_sum = viollier2.groupby([\"date_week\", \"canton\"], as_index=False).agg(\"sum\")\n",
    "viollier2_sum[\"frac_b117\"] = viollier2_sum[\"b117\"] / viollier2_sum[\"sequenced\"]\n",
    "viollier2_sum[\"p_pseudo\"] = (viollier2_sum[\"b117\"] + 1) / (\n",
    "    viollier2_sum[\"sequenced\"] + 2\n",
    ")\n",
    "viollier2_sum[\"error\"] = 1.96 * np.sqrt(\n",
    "    viollier2_sum[\"p_pseudo\"]\n",
    "    * (1 - viollier2_sum[\"p_pseudo\"])\n",
    "    / (viollier2_sum[\"sequenced\"] + 2)\n",
    ")"
   ]
  },
  {
   "cell_type": "markdown",
   "metadata": {},
   "source": [
    "## Prepare data"
   ]
  },
  {
   "cell_type": "markdown",
   "metadata": {},
   "source": [
    "###  ZH wastewater"
   ]
  },
  {
   "cell_type": "code",
   "execution_count": null,
   "metadata": {},
   "outputs": [],
   "source": [
    "ZHyy_ww = np.array(\n",
    "    [\n",
    "        ZHdf_counts.sum(axis=0).values,\n",
    "        (ZHdf_cov.sum(axis=0) - ZHdf_counts.sum(axis=0)).values,\n",
    "    ]\n",
    ").T\n",
    "ZHxx_ww = (ZHdf_cov.T.index - np.datetime64(\"2020-12-14\")) / np.timedelta64(1, \"D\")\n",
    "ZHxx_ww = sm.add_constant(ZHxx_ww)\n",
    "\n",
    "ZHxx_ww = ZHxx_ww[np.sum(ZHyy_ww, 1) != 0, :]  # remove timepoints with 0 observations\n",
    "ZHyy_ww = ZHyy_ww[np.sum(ZHyy_ww, 1) != 0, :]"
   ]
  },
  {
   "cell_type": "markdown",
   "metadata": {},
   "source": [
    "###  ZH clinical"
   ]
  },
  {
   "cell_type": "code",
   "execution_count": null,
   "metadata": {},
   "outputs": [],
   "source": [
    "viollier2[\"wt\"] = viollier2[\"sequenced\"] - viollier2[\"b117\"]\n",
    "\n",
    "ZHyy_clinical = viollier2[\n",
    "    (viollier2[\"canton\"] == \"ZH\") & (viollier2[\"date\"].isin(ZHdf_cov.T.index))\n",
    "][[\"b117\", \"wt\"]].values\n",
    "\n",
    "ZHxx_clinical = (ZHdf_cov.T.index - np.datetime64(\"2020-12-14\")) / np.timedelta64(\n",
    "    1, \"D\"\n",
    ")\n",
    "ZHxx_clinical = sm.add_constant(ZHxx_clinical)\n",
    "\n",
    "ZHxx_clinical = ZHxx_clinical[\n",
    "    np.sum(ZHyy_clinical, 1) != 0, :\n",
    "]  # remove timepoints with 0 observations\n",
    "ZHyy_clinical = ZHyy_clinical[np.sum(ZHyy_clinical, 1) != 0, :]"
   ]
  },
  {
   "cell_type": "markdown",
   "metadata": {},
   "source": [
    "###  VD wastewater"
   ]
  },
  {
   "cell_type": "code",
   "execution_count": null,
   "metadata": {},
   "outputs": [],
   "source": [
    "VDyy_ww = np.array(\n",
    "    [\n",
    "        VDdf_counts.sum(axis=0).values,\n",
    "        (VDdf_cov.sum(axis=0) - VDdf_counts.sum(axis=0)).values,\n",
    "    ]\n",
    ").T\n",
    "VDxx_ww = (VDdf_cov.T.index - np.datetime64(\"2020-12-14\")) / np.timedelta64(1, \"D\")\n",
    "VDxx_ww = sm.add_constant(VDxx_ww)\n",
    "\n",
    "VDxx_ww = VDxx_ww[np.sum(VDyy_ww, 1) != 0, :]  # remove timepoints with 0 observations\n",
    "VDyy_ww = VDyy_ww[np.sum(VDyy_ww, 1) != 0, :]"
   ]
  },
  {
   "cell_type": "markdown",
   "metadata": {},
   "source": [
    "### Model VD clinical"
   ]
  },
  {
   "cell_type": "code",
   "execution_count": null,
   "metadata": {},
   "outputs": [],
   "source": [
    "viollier2[\"wt\"] = viollier2[\"sequenced\"] - viollier2[\"b117\"]\n",
    "\n",
    "VDyy_clinical = viollier2[\n",
    "    (viollier2[\"canton\"] == \"VD\") & (viollier2[\"date\"].isin(VDdf_cov.T.index))\n",
    "][[\"b117\", \"wt\"]].values\n",
    "\n",
    "VDxx_clinical = (VDdf_cov.T.index - np.datetime64(\"2020-12-14\")) / np.timedelta64(\n",
    "    1, \"D\"\n",
    ")\n",
    "VDxx_clinical = sm.add_constant(VDxx_clinical)\n",
    "\n",
    "VDxx_clinical = VDxx_clinical[\n",
    "    np.sum(VDyy_clinical, 1) != 0, :\n",
    "]  # remove timepoints with 0 observations\n",
    "VDyy_clinical = VDyy_clinical[np.sum(VDyy_clinical, 1) != 0, :]"
   ]
  },
  {
   "cell_type": "markdown",
   "metadata": {},
   "source": [
    "# Make logistic quasibinomial regression "
   ]
  },
  {
   "cell_type": "code",
   "execution_count": null,
   "metadata": {},
   "outputs": [],
   "source": [
    "%%R -i ZHxx_ww -i ZHyy_ww -o glm_ZH_ww_pred2\n",
    "\n",
    "x <- ZHxx_ww[,2]\n",
    "glm_ZH_ww_r2 <- glm(ZHyy_ww ~ x, family=\"quasibinomial\")\n",
    "\n",
    "# do prediction interval in the link scale and then logit them\n",
    "pred_link <- predict(glm_ZH_ww_r2, newdata=data.frame(x=min(x):(max(x)+2)),type=\"link\", se.fit=T)\n",
    "upp <- pred_link$fit + 1.96*pred_link$se.fit\n",
    "low <- pred_link$fit - 1.96*pred_link$se.fit\n",
    "\n",
    "glm_ZH_ww_pred2 <- lapply(list(pred_link$fit, low, upp) ,glm_ZH_ww_r2$family$linkinv)"
   ]
  },
  {
   "cell_type": "code",
   "execution_count": null,
   "metadata": {},
   "outputs": [],
   "source": [
    "%%R -i ZHxx_clinical -i ZHyy_clinical -o glm_ZH_clinical_pred2\n",
    "\n",
    "x <- ZHxx_clinical[,2]\n",
    "glm_ZH_clinical_r2 <- glm(ZHyy_clinical ~ x, family=\"quasibinomial\")\n",
    "\n",
    "# do prediction interval in the link scale and then logit them\n",
    "pred_link <- predict(glm_ZH_clinical_r2, newdata=data.frame(x=min(x):(max(x)+2)),type=\"link\", se.fit=T)\n",
    "upp <- pred_link$fit + 1.96*pred_link$se.fit\n",
    "low <- pred_link$fit - 1.96*pred_link$se.fit\n",
    "\n",
    "glm_ZH_clinical_pred2 <- lapply(list(pred_link$fit, low, upp) ,glm_ZH_clinical_r2$family$linkinv)"
   ]
  },
  {
   "cell_type": "code",
   "execution_count": null,
   "metadata": {},
   "outputs": [],
   "source": [
    "%%R -i VDxx_ww -i VDyy_ww -o glm_VD_ww_pred2\n",
    "\n",
    "x <- VDxx_ww[,2]\n",
    "glm_VD_ww_r2 <- glm(VDyy_ww ~ x, family=\"quasibinomial\")\n",
    "\n",
    "# do prediction interval in the link scale and then logit them\n",
    "pred_link <- predict(glm_VD_ww_r2, newdata=data.frame(x=min(x):(max(x))),type=\"link\", se.fit=T)\n",
    "upp <- pred_link$fit + 1.96*pred_link$se.fit\n",
    "low <- pred_link$fit - 1.96*pred_link$se.fit\n",
    "\n",
    "glm_VD_ww_pred2 <- lapply(list(pred_link$fit, low, upp) ,glm_VD_ww_r2$family$linkinv)"
   ]
  },
  {
   "cell_type": "code",
   "execution_count": null,
   "metadata": {},
   "outputs": [],
   "source": [
    "%%R -i VDxx_clinical -i VDyy_clinical -o glm_VD_clinical_pred2\n",
    "\n",
    "x <- VDxx_clinical[,2]\n",
    "glm_VD_clinical_r2 <- glm(VDyy_clinical ~ x, family=\"quasibinomial\")\n",
    "\n",
    "# do prediction interval in the link scale and then logit them\n",
    "pred_link <- predict(glm_VD_clinical_r2, newdata=data.frame(x=(-6):(max(x))),type=\"link\", se.fit=T)\n",
    "upp <- pred_link$fit + 1.96*pred_link$se.fit\n",
    "low <- pred_link$fit - 1.96*pred_link$se.fit\n",
    "\n",
    "glm_VD_clinical_pred2 <- lapply(list(pred_link$fit, low, upp) ,glm_VD_clinical_r2$family$linkinv)"
   ]
  },
  {
   "cell_type": "code",
   "execution_count": null,
   "metadata": {},
   "outputs": [],
   "source": [
    "fig, axes = plt.subplots(ncols=2, figsize=(17, 5))\n",
    "\n",
    "sns.lineplot(x=VDdf_cov.T.index, y=glm_ZH_ww_pred2[0], ax=axes[0], label=\"wastewater\")\n",
    "axes[0].fill_between(\n",
    "    VDdf_cov.T.index, glm_ZH_ww_pred2[1], glm_ZH_ww_pred2[2], alpha=0.3\n",
    ")\n",
    "axes[0].errorbar(\n",
    "    x=ZHdf_cov.T.index,\n",
    "    y=ZHdf_counts.sum() / ZHdf_cov.sum(),\n",
    "    yerr=proportion_confint(\n",
    "        ZHdf_counts.sum(), ZHdf_cov.sum(), alpha=0.05, method=\"wilson\"\n",
    "    ),\n",
    "    fmt=\".\",\n",
    "    color=\"blue\",\n",
    "    alpha=0.5,\n",
    ")\n",
    "\n",
    "\n",
    "sns.lineplot(\n",
    "    x=VDdf_cov.T.index, y=glm_ZH_clinical_pred2[0], ax=axes[0], label=\"clinical samples\"\n",
    ")\n",
    "axes[0].fill_between(\n",
    "    VDdf_cov.T.index, glm_ZH_clinical_pred2[1], glm_ZH_clinical_pred2[2], alpha=0.3\n",
    ")\n",
    "ZHyy_clinical2 = viollier2[\n",
    "    (viollier2[\"canton\"] == \"ZH\") & (viollier2[\"date\"].isin(ZHdf_cov.T.index))\n",
    "][[\"b117\", \"wt\"]]\n",
    "axes[0].errorbar(\n",
    "    x=ZHdf_cov.T.index,\n",
    "    y=ZHyy_clinical2[\"b117\"] / (ZHyy_clinical2[\"b117\"] + ZHyy_clinical2[\"wt\"]),\n",
    "    yerr=proportion_confint(\n",
    "        ZHyy_clinical2[\"b117\"],\n",
    "        (ZHyy_clinical2[\"b117\"] + ZHyy_clinical2[\"wt\"]),\n",
    "        alpha=0.05,\n",
    "        method=\"wilson\",\n",
    "    ),\n",
    "    fmt=\".\",\n",
    "    color=\"orange\",\n",
    "    alpha=0.5,\n",
    ")\n",
    "\n",
    "axes[0].legend(loc=\"upper left\")\n",
    "axes[0].set_title(\"Zürich (ZH)\")\n",
    "axes[0].set_ylim((0, 1))\n",
    "\n",
    "sns.lineplot(x=VDdf_cov.T.index, y=glm_VD_ww_pred2[0], ax=axes[1], label=\"wastewater\")\n",
    "axes[1].fill_between(\n",
    "    VDdf_cov.T.index, glm_VD_ww_pred2[1], glm_VD_ww_pred2[2], alpha=0.3\n",
    ")\n",
    "axes[1].errorbar(\n",
    "    x=VDdf_cov.T.index,\n",
    "    y=VDdf_counts.sum() / VDdf_cov.sum(),\n",
    "    yerr=proportion_confint(\n",
    "        VDdf_counts.sum(), VDdf_cov.sum(), alpha=0.05, method=\"wilson\"\n",
    "    ),\n",
    "    fmt=\".\",\n",
    "    color=\"blue\",\n",
    "    alpha=0.5,\n",
    ")\n",
    "\n",
    "sns.lineplot(\n",
    "    x=VDdf_cov.T.index, y=glm_VD_clinical_pred2[0], ax=axes[1], label=\"clinical samples\"\n",
    ")\n",
    "axes[1].fill_between(\n",
    "    VDdf_cov.T.index, glm_VD_clinical_pred2[1], glm_VD_clinical_pred2[2], alpha=0.3\n",
    ")\n",
    "VDyy_clinical2 = viollier2[\n",
    "    (viollier2[\"canton\"] == \"VD\") & (viollier2[\"date\"].isin(VDdf_cov.T.index))\n",
    "][[\"b117\", \"wt\"]]\n",
    "axes[1].errorbar(\n",
    "    x=VDdf_cov.T.index,\n",
    "    y=VDyy_clinical2[\"b117\"] / (VDyy_clinical2[\"b117\"] + VDyy_clinical2[\"wt\"]),\n",
    "    yerr=proportion_confint(\n",
    "        VDyy_clinical2[\"b117\"],\n",
    "        VDyy_clinical2[\"b117\"] + VDyy_clinical2[\"wt\"],\n",
    "        alpha=0.05,\n",
    "        method=\"wilson\",\n",
    "    ),\n",
    "    fmt=\".\",\n",
    "    color=\"orange\",\n",
    "    alpha=0.5,\n",
    ")\n",
    "\n",
    "axes[1].legend(loc=\"upper left\")\n",
    "axes[1].set_title(\"Lausanne (VD)\")\n",
    "axes[1].set_ylim((0, 1))\n",
    "\n",
    "plt.savefig(\"plots/logist_plot2.pdf\")"
   ]
  },
  {
   "cell_type": "markdown",
   "metadata": {},
   "source": [
    "### Confints with overdispersion"
   ]
  },
  {
   "cell_type": "code",
   "execution_count": null,
   "metadata": {},
   "outputs": [],
   "source": [
    "%%R\n",
    "\n",
    "coefs <- lapply(list(glm_ZH_clinical_r2, glm_ZH_ww_r2, glm_VD_clinical_r2, glm_VD_ww_r2), function(x){\n",
    "    rbind(c(coef(x)[2], confint(x)[2,]))\n",
    "})\n",
    "coefs <- Reduce(function(...) rbind.data.frame(...), coefs)\n",
    "row.names(coefs) <- c(\"ZH clinical\", \"ZH wastewater\", \"VD clinical\", \"VD wastewater\")\n",
    "colnames(coefs)[1] = \"growth rate\"\n",
    "round(coefs, 2)"
   ]
  },
  {
   "cell_type": "markdown",
   "metadata": {},
   "source": [
    "### Confint fitness_d"
   ]
  },
  {
   "cell_type": "code",
   "execution_count": null,
   "metadata": {},
   "outputs": [],
   "source": [
    "%%R\n",
    "fitness_discr <- function(a){exp(a*4.8)-1}\n",
    "fitness_discr <- fitness_discr(coefs)\n",
    "colnames(fitness_discr)[1] <- \"fitness d.\"\n",
    "round(fitness_discr, 2)"
   ]
  },
  {
   "cell_type": "markdown",
   "metadata": {},
   "source": [
    "### Confint fitness_d for Chen et al: redo with backtransformation from logit space\n"
   ]
  },
  {
   "cell_type": "code",
   "execution_count": null,
   "metadata": {},
   "outputs": [],
   "source": [
    "fitness_discr = lambda x: np.exp(x * 4.8) - 1\n",
    "print(\"Zürich Region\")\n",
    "print([round(i, 2) for i in (fitness_discr(0.07), fitness_discr(0.11))])\n",
    "print(\"Lake Geneva Region\")\n",
    "print([round(i, 2) for i in (fitness_discr(0.09), fitness_discr(0.14))])"
   ]
  },
  {
   "cell_type": "markdown",
   "metadata": {},
   "source": [
    "# Vary series length"
   ]
  },
  {
   "cell_type": "markdown",
   "metadata": {},
   "source": [
    "## Prepare Data"
   ]
  },
  {
   "cell_type": "code",
   "execution_count": null,
   "metadata": {},
   "outputs": [],
   "source": [
    "# make one df with all I need\n",
    "viollier2[\"wt\"] = viollier2[\"sequenced\"] - viollier2[\"b117\"]\n",
    "viollier2.index = viollier2.date\n",
    "\n",
    "# make ZH ww df\n",
    "ZHwwdf = pd.DataFrame(\n",
    "    {\n",
    "        \"b117\": ZHdf_counts.sum(axis=0),\n",
    "        \"wt\": (ZHdf_cov.sum(axis=0) - ZHdf_counts.sum(axis=0)),\n",
    "    }\n",
    ")\n",
    "# make ZH clinical df\n",
    "ZHclinicaldf = viollier2[\n",
    "    (viollier2[\"canton\"] == \"ZH\") & (viollier2[\"date\"].isin(ZHdf_cov.T.index))\n",
    "][[\"b117\", \"wt\"]]\n",
    "\n",
    "# make VD ww df\n",
    "VDwwdf = pd.DataFrame(\n",
    "    {\n",
    "        \"b117\": VDdf_counts.sum(axis=0),\n",
    "        \"wt\": (VDdf_cov.sum(axis=0) - VDdf_counts.sum(axis=0)),\n",
    "    }\n",
    ")\n",
    "\n",
    "# make VD clinical df\n",
    "VDclinicaldf = viollier2[\n",
    "    (viollier2[\"canton\"] == \"VD\") & (viollier2[\"date\"].isin(VDdf_cov.T.index))\n",
    "][[\"b117\", \"wt\"]]\n",
    "\n",
    "\n",
    "Count_df = pd.concat([ZHwwdf, ZHclinicaldf, VDwwdf, VDclinicaldf], axis=1)\n",
    "Count_df.set_axis(\n",
    "    [\n",
    "        \"ZH_ww_b117\",\n",
    "        \"ZH_ww_wt\",\n",
    "        \"ZH_clinical_b117\",\n",
    "        \"ZH_clinical_wt\",\n",
    "        \"VD_ww_b117\",\n",
    "        \"VD_ww_wt\",\n",
    "        \"VD_clinical_b117\",\n",
    "        \"VD_clinical_wt\",\n",
    "    ],\n",
    "    axis=1,\n",
    "    inplace=True,\n",
    ")\n",
    "Count_df[\"day\"] = np.arange(Count_df.shape[0])\n",
    "Count_array = Count_df.values"
   ]
  },
  {
   "cell_type": "code",
   "execution_count": null,
   "metadata": {},
   "outputs": [],
   "source": [
    "%%R -i Count_df\n",
    "# This cell will throw an error because some attributes fail to be passed between python and R,\n",
    "# no worries just keep executing the next ones :P\n",
    "1"
   ]
  },
  {
   "cell_type": "markdown",
   "metadata": {},
   "source": [
    "## Fit online models"
   ]
  },
  {
   "cell_type": "code",
   "execution_count": null,
   "metadata": {},
   "outputs": [],
   "source": [
    "%%R -o All_est_mat -o All_est_mat_names\n",
    "All_est <- lapply(6:68, function(i){\n",
    "    ZH_wwfit = glm(as.matrix(Count_df[1:i,c(\"ZH_ww_b117\", \"ZH_ww_wt\")]) ~ Count_df$day[1:i], family=\"quasibinomial\",\n",
    "                  start=c(-6,0.1))\n",
    "    ZH_clinfit = glm(as.matrix(Count_df[1:i,c(\"ZH_clinical_b117\", \"ZH_clinical_wt\")]) ~ Count_df$day[1:i], family=\"quasibinomial\",\n",
    "                    start=c(-6,0.1))\n",
    "    VD_wwfit = glm(as.matrix(Count_df[1:i,c(\"VD_ww_b117\", \"VD_ww_wt\")]) ~ Count_df$day[1:i], family=\"quasibinomial\",\n",
    "                  start=c(-6,0.1))\n",
    "    VD_clinfit = glm(as.matrix(Count_df[1:i,c(\"VD_clinical_b117\", \"VD_clinical_wt\")]) ~ Count_df$day[1:i], family=\"quasibinomial\",\n",
    "                    start=c(-6,0.1))\n",
    "\n",
    "    coefs <- lapply(list(ZH_wwfit, ZH_clinfit, VD_wwfit, VD_clinfit), function(x){\n",
    "        rbind(c(coef(x)[2], coef(x)[2] + c(-1, 1) * 1.96 * summary(x)$coefficients[2,2]))\n",
    "    })\n",
    "    coefs <- Reduce(function(...) cbind.data.frame(...), coefs)\n",
    "    colnames(coefs) <- paste0(rep(c(\"ZH\", \"VD\"), each=6), \"_\",\n",
    "                              rep(c(\"ww\", \"clinical\"), each=3), \"_\",\n",
    "                              rep(c(\"estimate\", \"q025\", \"q975\"), times=4))\n",
    "    return(coefs)\n",
    "})\n",
    "All_est_df <- Reduce(function(...) rbind(...), All_est)\n",
    "All_est_mat <- as.matrix(All_est_df)\n",
    "All_est_mat_names <- colnames(All_est_df)"
   ]
  },
  {
   "cell_type": "code",
   "execution_count": null,
   "metadata": {},
   "outputs": [],
   "source": [
    "All_est_df = pd.DataFrame(np.array(All_est_mat))\n",
    "All_est_df.set_axis(All_est_mat_names, axis=1, inplace=True)\n",
    "All_est_df.set_axis(Count_df.index[5:], axis=0, inplace=True)"
   ]
  },
  {
   "cell_type": "markdown",
   "metadata": {},
   "source": [
    "# Load city data"
   ]
  },
  {
   "cell_type": "code",
   "execution_count": null,
   "metadata": {},
   "outputs": [],
   "source": [
    "viollier3 = pd.read_csv(\"Data/data_per_city.csv\")\n",
    "viollier3\n",
    "viollier3[\"date\"] = pd.DatetimeIndex(viollier3[\"date\"])\n",
    "viollier3[\"week\"] = viollier3.date.dt.strftime(\"%W\")\n",
    "viollier3[\"year\"] = viollier3.date.dt.strftime(\"%Y\")\n",
    "viollier3[\"date_week\"] = pd.to_datetime(\n",
    "    viollier3[\"year\"].astype(str), format=\"%Y\"\n",
    ") + pd.to_timedelta(\n",
    "    ((viollier3[\"week\"].astype(\"int\") - 1).mul(7) + 3 - 7).astype(str) + \" days\"\n",
    ")\n",
    "\n",
    "viollier3_sum = viollier3.groupby([\"date_week\", \"city\"], as_index=False).agg(\"sum\")\n",
    "viollier3_sum[\"frac_b117\"] = viollier3_sum[\"b117\"] / viollier3_sum[\"sequenced\"]\n",
    "viollier3_sum[\"p_pseudo\"] = (viollier3_sum[\"b117\"] + 1) / (\n",
    "    viollier3_sum[\"sequenced\"] + 2\n",
    ")\n",
    "viollier3_sum[\"error\"] = 1.96 * np.sqrt(\n",
    "    viollier3_sum[\"p_pseudo\"]\n",
    "    * (1 - viollier3_sum[\"p_pseudo\"])\n",
    "    / (viollier3_sum[\"sequenced\"] + 2)\n",
    ")"
   ]
  },
  {
   "cell_type": "code",
   "execution_count": null,
   "metadata": {},
   "outputs": [],
   "source": [
    "# Prepare ZH city data\n",
    "\n",
    "viollier3[\"wt\"] = viollier3[\"sequenced\"] - viollier3[\"b117\"]\n",
    "ZHyy_clinical_city = viollier3[\n",
    "    (viollier3[\"city\"] == \"Zürich\") & (viollier3[\"date\"].isin(ZHdf_cov.T.index))\n",
    "][[\"b117\", \"wt\"]].values\n",
    "\n",
    "ZHxx_clinical_city = (\n",
    "    viollier3[\n",
    "        (viollier3[\"city\"] == \"Zürich\") & (viollier3[\"date\"].isin(ZHdf_cov.T.index))\n",
    "    ][\"date\"]\n",
    "    - np.datetime64(\"2020-12-14\")\n",
    ") / np.timedelta64(1, \"D\")\n",
    "ZHxx_clinical_city = sm.add_constant(ZHxx_clinical_city)\n",
    "ZHxx_clinical_city = ZHxx_clinical\n",
    "\n",
    "# Prepare VD city data\n",
    "\n",
    "VDyy_clinical_city = viollier3[\n",
    "    (viollier3[\"city\"] == \"Lausanne\") & (viollier3[\"date\"].isin(ZHdf_cov.T.index))\n",
    "][[\"b117\", \"wt\"]].values\n",
    "\n",
    "VDxx_clinical_city = (\n",
    "    viollier3[\n",
    "        (viollier3[\"city\"] == \"Lausanne\") & (viollier3[\"date\"].isin(ZHdf_cov.T.index))\n",
    "    ][\"date\"]\n",
    "    - np.datetime64(\"2020-12-14\")\n",
    ") / np.timedelta64(1, \"D\")\n",
    "VDxx_clinical_city = sm.add_constant(VDxx_clinical_city)\n",
    "VDxx_clinical_city = VDxx_clinical_city"
   ]
  },
  {
   "cell_type": "markdown",
   "metadata": {},
   "source": [
    "## Vary series length "
   ]
  },
  {
   "cell_type": "code",
   "execution_count": null,
   "metadata": {},
   "outputs": [],
   "source": [
    "# make one df with all I need\n",
    "viollier3[\"wt\"] = viollier3[\"sequenced\"] - viollier3[\"b117\"]\n",
    "viollier3.index = viollier3.date\n",
    "\n",
    "# make ZH ww df\n",
    "ZHwwdf = pd.DataFrame(\n",
    "    {\n",
    "        \"b117\": ZHdf_counts.sum(axis=0),\n",
    "        \"wt\": (ZHdf_cov.sum(axis=0) - ZHdf_counts.sum(axis=0)),\n",
    "    }\n",
    ")\n",
    "# make ZH clinical df\n",
    "ZHclinicaldf_city = viollier3[\n",
    "    (viollier3[\"city\"] == \"Zürich\") & (viollier3[\"date\"].isin(ZHdf_cov.T.index))\n",
    "][[\"b117\", \"wt\"]]\n",
    "\n",
    "# make VD ww df\n",
    "VDwwdf = pd.DataFrame(\n",
    "    {\n",
    "        \"b117\": VDdf_counts.sum(axis=0),\n",
    "        \"wt\": (VDdf_cov.sum(axis=0) - VDdf_counts.sum(axis=0)),\n",
    "    }\n",
    ")\n",
    "\n",
    "\n",
    "Count_df2 = pd.concat([ZHwwdf, ZHclinicaldf_city, VDwwdf], axis=1)\n",
    "Count_df2.set_axis(\n",
    "    [\n",
    "        \"ZH_ww_b117\",\n",
    "        \"ZH_ww_wt\",\n",
    "        \"ZH_clinical_b117\",\n",
    "        \"ZH_clinical_wt\",\n",
    "        \"VD_ww_b117\",\n",
    "        \"VD_ww_wt\",\n",
    "    ],\n",
    "    axis=1,\n",
    "    inplace=True,\n",
    ")\n",
    "Count_df2[\"day\"] = np.arange(Count_df2.shape[0])\n",
    "Count_array2 = Count_df2.values"
   ]
  },
  {
   "cell_type": "code",
   "execution_count": null,
   "metadata": {},
   "outputs": [],
   "source": [
    "%%R -i Count_df2\n",
    "# This cell will throw an error because some attributes fail to be passed between python and R,\n",
    "# no worries just keep executing the next ones :P\n",
    "\n",
    "1"
   ]
  },
  {
   "cell_type": "code",
   "execution_count": null,
   "metadata": {},
   "outputs": [],
   "source": [
    "%%R -o ZHclincitydf1\n",
    "ZHclincitydf1 <- lapply(10:68, function(i){\n",
    "    mod <- glm(as.matrix(Count_df2[1:i,c(\"ZH_clinical_b117\", \"ZH_clinical_wt\")]) ~ Count_df2$day[1:i], family=\"quasibinomial\",\n",
    "                    start=c(-6,0.1))\n",
    "    rbind(c(coef(mod)[2], coef(mod)[2] + c(-1, 1) * 1.96 * summary(mod)$coefficients[2,2]))\n",
    "})\n",
    "ZHclincitydf1 <- Reduce(function(...) rbind(...), ZHclincitydf1)\n",
    "ZHclincitydf1 <- as.matrix(ZHclincitydf1)"
   ]
  },
  {
   "cell_type": "markdown",
   "metadata": {},
   "source": [
    "# Do different versions of online estimate plot"
   ]
  },
  {
   "cell_type": "code",
   "execution_count": null,
   "metadata": {},
   "outputs": [],
   "source": [
    "def fitness_discr(a, g=4.8):\n",
    "    return np.exp(a * g) - 1"
   ]
  },
  {
   "cell_type": "code",
   "execution_count": null,
   "metadata": {},
   "outputs": [],
   "source": [
    "fig, axes = plt.subplots(ncols=2, figsize=(17, 5))\n",
    "\n",
    "sns.lineplot(\n",
    "    x=All_est_df.index[All_est_df.index > np.datetime64(\"2020-12-22\")],\n",
    "    y=fitness_discr(\n",
    "        All_est_df[\"ZH_ww_estimate\"][All_est_df.index > np.datetime64(\"2020-12-22\")]\n",
    "    ),\n",
    "    ax=axes[0],\n",
    "    label=\"city wastewater\",\n",
    ")\n",
    "axes[0].fill_between(\n",
    "    All_est_df.index[All_est_df.index > np.datetime64(\"2020-12-22\")],\n",
    "    fitness_discr(\n",
    "        All_est_df[\"ZH_ww_q025\"][All_est_df.index > np.datetime64(\"2020-12-22\")]\n",
    "    ),\n",
    "    fitness_discr(\n",
    "        All_est_df[\"ZH_ww_q975\"][All_est_df.index > np.datetime64(\"2020-12-22\")]\n",
    "    ),\n",
    "    alpha=0.2,\n",
    ")\n",
    "\n",
    "# axes[0].axhline(np.array(ZHclincitydf1)[-1:,0], linestyle=\"--\", color=\"orange\")\n",
    "# axes[0].axhline(np.array(ZHclincitydf1)[-1:,1], linestyle=\":\", color=\"orange\")\n",
    "# axes[0].axhline(np.array(ZHclincitydf1)[-1:,2], linestyle=\":\", color=\"orange\")\n",
    "\n",
    "sns.lineplot(\n",
    "    x=All_est_df.index[All_est_df.index > np.datetime64(\"2020-12-28\")],\n",
    "    y=fitness_discr(\n",
    "        All_est_df[\"ZH_clinical_estimate\"][\n",
    "            All_est_df.index > np.datetime64(\"2020-12-28\")\n",
    "        ]\n",
    "    ),\n",
    "    ax=axes[0],\n",
    "    label=\"clinical cantonal\",\n",
    ")\n",
    "axes[0].fill_between(\n",
    "    All_est_df.index[All_est_df.index > np.datetime64(\"2020-12-28\")],\n",
    "    fitness_discr(\n",
    "        All_est_df[\"ZH_clinical_q025\"][All_est_df.index > np.datetime64(\"2020-12-28\")]\n",
    "    ),\n",
    "    fitness_discr(\n",
    "        All_est_df[\"ZH_clinical_q975\"][All_est_df.index > np.datetime64(\"2020-12-28\")]\n",
    "    ),\n",
    "    alpha=0.2,\n",
    ")\n",
    "\n",
    "sns.lineplot(\n",
    "    x=Count_df2.index[-28:],\n",
    "    y=fitness_discr(np.array(ZHclincitydf1)[-28:, 0]),\n",
    "    ax=axes[0],\n",
    "    label=\"city clinical\",\n",
    ")\n",
    "axes[0].fill_between(\n",
    "    Count_df2.index[-28:],\n",
    "    fitness_discr(np.array(ZHclincitydf1)[-28:, 1]),\n",
    "    fitness_discr(np.array(ZHclincitydf1)[-28:, 2]),\n",
    "    alpha=0.2,\n",
    ")\n",
    "\n",
    "axes[0].axhline(\n",
    "    fitness_discr(0.09), linestyle=\"-\", color=\"black\", label=\"clinical regional\"\n",
    ")\n",
    "# axes[0].axhline(fitness_discr(0.07), linestyle=\":\", color=\"black\")\n",
    "# axes[0].axhline(fitness_discr(0.11), linestyle=\":\", color=\"black\")\n",
    "axes[0].fill_between(\n",
    "    All_est_df.index[All_est_df.index > np.datetime64(\"2020-12-22\")],\n",
    "    fitness_discr(0.07),\n",
    "    fitness_discr(0.11),\n",
    "    color=\"black\",\n",
    "    alpha=0.2,\n",
    ")\n",
    "\n",
    "axes[0].set_ylim((0, 2))\n",
    "axes[0].set_title(\"Zürich (ZH)\")\n",
    "axes[0].set_ylabel(r\"$f_d$ online estimate\")\n",
    "axes[0].set_xlim((np.datetime64(\"2020-12-22\"), np.datetime64(\"2021-02-15\")))\n",
    "axes[0].legend(loc=\"upper right\")\n",
    "\n",
    "\n",
    "### Lausanne\n",
    "\n",
    "sns.lineplot(\n",
    "    x=All_est_df.index[All_est_df.index > np.datetime64(\"2020-12-22\")],\n",
    "    y=fitness_discr(\n",
    "        All_est_df[\"VD_ww_estimate\"][All_est_df.index > np.datetime64(\"2020-12-22\")]\n",
    "    ),\n",
    "    ax=axes[1],\n",
    "    label=\"city wastewater\",\n",
    ")\n",
    "axes[1].fill_between(\n",
    "    All_est_df.index[All_est_df.index > np.datetime64(\"2020-12-22\")],\n",
    "    fitness_discr(\n",
    "        All_est_df[\"VD_ww_q025\"][All_est_df.index > np.datetime64(\"2020-12-22\")]\n",
    "    ),\n",
    "    fitness_discr(\n",
    "        All_est_df[\"VD_ww_q975\"][All_est_df.index > np.datetime64(\"2020-12-22\")]\n",
    "    ),\n",
    "    alpha=0.2,\n",
    ")\n",
    "\n",
    "sns.lineplot(\n",
    "    x=All_est_df.index[All_est_df.index > np.datetime64(\"2021-01-04\")],\n",
    "    y=fitness_discr(\n",
    "        All_est_df[\"VD_clinical_estimate\"][\n",
    "            All_est_df.index > np.datetime64(\"2021-01-04\")\n",
    "        ]\n",
    "    ),\n",
    "    ax=axes[1],\n",
    "    label=\"clinical cantonal\",\n",
    ")\n",
    "axes[1].fill_between(\n",
    "    All_est_df.index[All_est_df.index > np.datetime64(\"2021-01-04\")],\n",
    "    fitness_discr(\n",
    "        All_est_df[\"VD_clinical_q025\"][All_est_df.index > np.datetime64(\"2021-01-04\")]\n",
    "    ),\n",
    "    fitness_discr(\n",
    "        All_est_df[\"VD_clinical_q975\"][All_est_df.index > np.datetime64(\"2021-01-04\")]\n",
    "    ),\n",
    "    alpha=0.2,\n",
    ")\n",
    "\n",
    "axes[1].axhline(\n",
    "    fitness_discr(0.11), linestyle=\"-\", color=\"black\", label=\"clinical regional\"\n",
    ")\n",
    "# axes[1].axhline(fitness_discr(0.09), linestyle=\":\", color=\"black\")\n",
    "# axes[1].axhline(fitness_discr(0.14), linestyle=\":\", color=\"black\")\n",
    "axes[1].fill_between(\n",
    "    All_est_df.index[All_est_df.index > np.datetime64(\"2020-12-22\")],\n",
    "    fitness_discr(0.09),\n",
    "    fitness_discr(0.14),\n",
    "    color=\"black\",\n",
    "    alpha=0.2,\n",
    ")\n",
    "\n",
    "axes[1].set_ylim((0, 2))\n",
    "axes[1].set_xlim((np.datetime64(\"2020-12-22\"), np.datetime64(\"2021-02-15\")))\n",
    "axes[1].set_title(\"Lausanne (VD)\")\n",
    "axes[1].set_ylabel(r\"$f_d$ online estimate\")\n",
    "axes[1].legend(loc=\"upper right\")\n",
    "\n",
    "# axes[1].set_xticklabels(rotation=90, ha='center')\n",
    "# labs1 = axes[1].get_xticklabels\n",
    "fig.autofmt_xdate()\n",
    "# plt.savefig(\"plots/fd_plot1.pdf\")"
   ]
  },
  {
   "cell_type": "code",
   "execution_count": null,
   "metadata": {},
   "outputs": [],
   "source": [
    "import sys\n",
    "\n",
    "print(sys.version)\n",
    "print(sm.__version__)"
   ]
  },
  {
   "cell_type": "code",
   "execution_count": null,
   "metadata": {},
   "outputs": [],
   "source": [
    "%%R\n",
    "sessionInfo()"
   ]
  }
 ],
 "metadata": {
  "kernelspec": {
   "display_name": "bio1",
   "language": "python",
   "name": "bio1"
  },
  "language_info": {
   "codemirror_mode": {
    "name": "ipython",
    "version": 3
   },
   "file_extension": ".py",
   "mimetype": "text/x-python",
   "name": "python",
   "nbconvert_exporter": "python",
   "pygments_lexer": "ipython3",
   "version": "3.9.5"
  }
 },
 "nbformat": 4,
 "nbformat_minor": 1
}
